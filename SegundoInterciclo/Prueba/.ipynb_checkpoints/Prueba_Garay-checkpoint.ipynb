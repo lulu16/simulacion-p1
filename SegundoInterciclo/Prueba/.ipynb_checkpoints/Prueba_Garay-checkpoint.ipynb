{
 "cells": [
  {
   "cell_type": "markdown",
   "metadata": {},
   "source": [
    "# <center>Universidad Politécnica Salesiana</center>\n",
    "\n",
    "**Nombre**: Lucy Garay\n",
    "\n",
    "**Evaluación práctica**\n",
    "\n",
    "1. A traves de la misma api generar una semilla diferente. \n",
    "\n",
    "2. Encontrar el numero de iteraciones hasta que se repita uno de sus datos.\n",
    "\n",
    "3. Generar 100 simulaciones con diferentes semillas.\n",
    "\n",
    "4. Generar un histograma con el resultado obtenidos por cada método.\n",
    "\n",
    "5. Agregar sus conclusiones, opiniones y recomendaciones"
   ]
  },
  {
   "cell_type": "markdown",
   "metadata": {},
   "source": [
    "# Algoritmo de Cuadros Medios\n"
   ]
  },
  {
   "cell_type": "code",
   "execution_count": 18,
   "metadata": {},
   "outputs": [
    {
     "name": "stdout",
     "output_type": "stream",
     "text": [
      "5\n",
      "digito:, 5\n",
      "100\n",
      "iteraciones:, 100\n",
      "['22199', '27956', '15379', '65136', '26984', '81362', '97750', '50625', '28906', '55568', '78026', '80566', '08803', '49280', '85184', '63138', '64070', '49649', '50232', '32538', '87214', '62817', '59754', '05405', '21402', '80456', '31679', '35590', '66481', '97233', '42562', '15238', '21966', '25051', '75526', '41766', '43987', '48561', '81707', '60338', '06742', '45456', '62479', '36254', '43525', '44256', '85935', '48242', '72905', '51390', '09321', '88104', '23148', '58299', '87734', '72547', '30672', '07715', '52122', '67028', '27527', '77357', '41054', '54309', '94674', '31662', '24822', '61316', '96518', '57243', '67610', '11121', '36766', '17387', '23077', '25479', '91794', '61384', '79954', '26421', '80692', '11988', '37121', '79686', '98585', '90022', '39604', '84768', '56138', '14750', '75625', '91406', '50568', '71226', '31430', '78449', '42456', '25119', '09641', '94888']\n"
     ]
    }
   ],
   "source": [
    "import random\n",
    "import numpy as np\n",
    "import pandas as pd\n",
    "import math\n",
    "import psutil\n",
    "\n",
    "xn=[]\n",
    "multiplicacion=[]\n",
    "log=[]\n",
    "ui_sem = []\n",
    "rn=[]\n",
    "\n",
    "numero = (dict(psutil.virtual_memory()._asdict())).get('total')\n",
    "\n",
    "digito=int(input())\n",
    "print(f\"digito:, {digito}\")\n",
    "\n",
    "iteraciones = int(input())\n",
    "print(f\"iteraciones:, {iteraciones}\")\n",
    "\n",
    "def centros(mul):\n",
    "    cortarI=int(digito/2)\n",
    "    cortarD=digito-cortarI\n",
    "    mitad=math.floor(len(mul)/2)\n",
    "    unir=''\n",
    "    for i in range(mitad-cortarI, mitad+cortarD, 1):\n",
    "        unir=unir+mul[i]\n",
    "    ui_sem.append(unir)\n",
    "    return unir\n",
    "          \n",
    "def cuadrado(num):\n",
    "    multi=(num*num)\n",
    "    m=str(multi)\n",
    "    lon=len(m)\n",
    "    if(len(m)%2!=0):\n",
    "        if (lon < len(m)+1):\n",
    "            m=str(m).zfill(len(m)+1)\n",
    "    multiplicacion.append(m)\n",
    "    return m\n",
    "\n",
    "def dividido(n):\n",
    "    ceros=[int(str(num).ljust(digito+1, \"0\")) for num in [1]]\n",
    "    res=n/ceros[0]\n",
    "    rn.append(res)\n",
    "    return res\n",
    "\n",
    "\n",
    "for i in range(iteraciones):\n",
    "    m=str(cuadrado(int(numero)))\n",
    "    if(len(m)-1>digito and int(numero)>0):\n",
    "        xn.append(numero)\n",
    "        dividido(int(centros(m))) #RN\n",
    "        numero=ui_sem[-1]\n",
    "    else:\n",
    "        print('ingrese datos correctos')\n",
    "        break\n",
    "    \n",
    "#print(xn_sem)\n",
    "#print(multiplicacion)\n",
    "print(ui_sem)\n",
    "#print(rn)\n",
    "\n",
    "#df=pd.DataFrame({\"Xn\":xn, \"Xn*Xn\":multiplicacion ,\"UI \":ui, \"RN\":rn})\n",
    "#df"
   ]
  },
  {
   "cell_type": "code",
   "execution_count": 33,
   "metadata": {},
   "outputs": [
    {
     "name": "stdout",
     "output_type": "stream",
     "text": [
      "{45: 2, 48: 1, 57: 2, 58: 1, 66: 1, 76: 2, 80: 3}\n"
     ]
    }
   ],
   "source": [
    "import random\n",
    "import numpy as np\n",
    "import pandas as pd\n",
    "import math\n",
    "\n",
    "xn=[]\n",
    "multiplicacion=[]\n",
    "log=[]\n",
    "ui = []\n",
    "rn=[]\n",
    "g={}\n",
    "rep=0\n",
    "\n",
    "\n",
    "digito=5\n",
    "\n",
    "iteraciones = 400\n",
    "\n",
    "def cuadrado(num):\n",
    "    multi=(num*num)\n",
    "    m=str(multi)\n",
    "    lon=len(m)\n",
    "    if(len(m)%2!=0):\n",
    "        if (lon < len(m)+1):\n",
    "            m=str(m).zfill(len(m)+1)\n",
    "    multiplicacion.append(m)\n",
    "    return m\n",
    "\n",
    "def dividido(n):\n",
    "    ceros=[int(str(num).ljust(digito+1, \"0\")) for num in [1]]\n",
    "    res=n/ceros[0]\n",
    "    rn.append(res)\n",
    "    return res\n",
    "\n",
    "for j in ui_sem:\n",
    "    numero=j\n",
    "    for i in range(iteraciones):\n",
    "        m=str(cuadrado(int(numero)))\n",
    "        cortarI=int(digito/2)\n",
    "        cortarD=digito-cortarI\n",
    "        mitad=math.floor(len(m)/2)\n",
    "        #print(mitad)\n",
    "        unir=''\n",
    "        for i in range(mitad-cortarI, mitad+cortarD, 1):\n",
    "            unir=unir+m[i]\n",
    "            if unir in ui:\n",
    "                g[rep] = g[rep] + 1 if rep in g else  1\n",
    "                break\n",
    "        ui.append(unir)\n",
    "\n",
    "        xn.append(numero)\n",
    "        dividido(int(unir)) #RN\n",
    "        numero=ui[-1]\n",
    "    rep+=1\n",
    "   \n",
    "    \n",
    "#print(xn)\n",
    "#print(multiplicacion)\n",
    "#print(ui)\n",
    "#print(rn)\n",
    "print(g)\n",
    "\n",
    "#df=pd.DataFrame({\"Xn\":xn, \"Xn*Xn\":multiplicacion ,\"UI \":ui, \"RN\":rn})\n",
    "#df"
   ]
  },
  {
   "cell_type": "code",
   "execution_count": 34,
   "metadata": {},
   "outputs": [
    {
     "data": {
      "image/png": "[encoded data removed]",
      "text/plain": [
       "<Figure size 432x288 with 1 Axes>"
      ]
     },
     "metadata": {
      "needs_background": "light"
     },
     "output_type": "display_data"
    }
   ],
   "source": [
    "import matplotlib.pyplot as plt\n",
    "\n",
    "grafica= g\n",
    "plt.bar(range(len(grafica)), list(grafica.values()), align='center')\n",
    "plt.xticks(range(len(grafica)), list(grafica.keys()))\n",
    "plt.show()"
   ]
  },
  {
   "cell_type": "markdown",
   "metadata": {},
   "source": [
    "# Congruencia lineal"
   ]
  },
  {
   "cell_type": "code",
   "execution_count": 37,
   "metadata": {},
   "outputs": [
    {
     "name": "stdout",
     "output_type": "stream",
     "text": [
      "[14, 353008654849, 66015582027714, 139978396537319, 217336184046034, 109737199590414, 233978104010879, 24388994536519, 240744420658704, 11596678581884, 275503305480904, 196373767556124, 54977795761214, 203794064797264, 40949418164064, 263489241471614, 89084888179249, 81091911300159, 108062548728089, 142673698398844, 59108233946724, 173405876053169, 258140717013589, 38783747166504, 239036269320629, 114740490903889, 101605575592749, 23128050736949, 33979792765699, 248544003849264, 92587423856519, 235076709395959, 23290061813799, 145444422382109, 261948094022479, 238309778386929, 109077172188674, 188632888863724, 47236790077614, 184481814994544, 57272291820979, 209139177284979, 132872887462634, 202075582468099, 154238047005459, 246065002205054, 257454427076074, 277613827003944, 80099081680034, 147277962664774, 139717945976109, 12221767604204, 141215932935949, 85492404053634, 208871075462459, 154245188223739, 206744185991214, 91514084902454, 122782502666779, 160784207749869, 84618950781509, 109747607985229, 203833468700544, 103667366917454, 138889612835299, 69587140619574, 229048204959074, 75064486898104, 148830704659599, 235567243577789, 138184559309479, 231847209104214, 173215322927609, 202937091177034, 280025297424009, 154678735411904, 63715613256439, 191500502810649, 25250810285474, 100425241559164, 203347417277694, 137863963907429, 4494321187129, 173730118541319, 158491039668014, 88498933827154, 205972434799359, 281412758425229, 278347481873059, 55240272516279, 169256771080079, 81940830544549, 225690865230429, 139867655922299, 209560294123954, 197230368191469, 242735958032894, 237187677748144, 62081068810989, 192478002263159, 23683478680369]\n"
     ]
    }
   ],
   "source": [
    "import random\n",
    "import numpy as np\n",
    "import pandas as pd\n",
    "import math\n",
    "import psutil\n",
    "\n",
    "\n",
    "xn_semillas=[]\n",
    "un=[]\n",
    "\n",
    "iteraciones = 100\n",
    "semilla = int(psutil.cpu_percent())\n",
    "a=25214903917\n",
    "c=11\n",
    "m=pow(2, 48)-1\n",
    "\n",
    "def formula(xo, A, C, M):\n",
    "    form=((xo*A)+C)%M\n",
    "    xn_semillas.append(form)\n",
    "    return form\n",
    "\n",
    "def dividido(n):\n",
    "    d=n/m\n",
    "    un.append(d)\n",
    "    return d\n",
    "\n",
    "xn_semillas.append(semilla)\n",
    "un.append(' ')\n",
    "for i in range(iteraciones):\n",
    "    primero=semilla\n",
    "    semilla=formula(primero, a, c, m)\n",
    "    dividido(semilla)\n",
    "    \n",
    "print(xn_semillas)\n",
    "#print(un)\n",
    "\n",
    "#df=pd.DataFrame({\"Xn\":xn, \"Un\":un})\n",
    "#df"
   ]
  },
  {
   "cell_type": "code",
   "execution_count": 38,
   "metadata": {},
   "outputs": [],
   "source": [
    "import random\n",
    "import numpy as np\n",
    "import pandas as pd\n",
    "import math\n",
    "\n",
    "xn=[]\n",
    "un=[]\n",
    "guardar={}\n",
    "\n",
    "iteraciones = 100\n",
    "a=25214903917\n",
    "c=11\n",
    "m=pow(2, 48)-1\n",
    "\n",
    "repeticiones=0\n",
    "\n",
    "def dividido(n):\n",
    "    d=n/m\n",
    "    un.append(d)\n",
    "    return d\n",
    "\n",
    "xn.append(semilla)\n",
    "un.append(' ')\n",
    "for k in xn_semillas:\n",
    "    semilla=k\n",
    "    for i in range(iteraciones):\n",
    "        semilla=((semilla*a)+c)%m\n",
    "        if semilla in xn:\n",
    "            guardar[repeticiones] = guardar[repeticiones] + 1 if repeticiones in guardar else  1\n",
    "            break\n",
    "        xn.append(semilla)\n",
    "        dividido(semilla)\n",
    "        repeticiones+=1\n",
    "    \n",
    "    #print(guardar)\n",
    "    #print(xn)\n",
    "#print(un)\n",
    "\n",
    "#df=pd.DataFrame({\"Xn\":xn, \"Un\":un})\n",
    "#df"
   ]
  },
  {
   "cell_type": "code",
   "execution_count": 39,
   "metadata": {},
   "outputs": [
    {
     "data": {
      "image/png": "[encoded data removed]",
      "text/plain": [
       "<Figure size 432x288 with 1 Axes>"
      ]
     },
     "metadata": {
      "needs_background": "light"
     },
     "output_type": "display_data"
    }
   ],
   "source": [
    "import matplotlib.pyplot as plt\n",
    "\n",
    "grafica= guardar\n",
    "plt.bar(range(len(grafica)), list(grafica.values()), align='center')\n",
    "plt.xticks(range(len(grafica)), list(grafica.keys()))\n",
    "plt.show()"
   ]
  },
  {
   "cell_type": "markdown",
   "metadata": {},
   "source": [
    "#### Conclusiones, Opiniones y Recomendaciones\n",
    "\n",
    "Los números aleatorios son la base esencial de la simulación. Usualmente, toda la aleatoriedad involucrada en el modelo se obtiene a partir de un generador de números aleatorios que produce una sucesi´on de valores. En general, la validez de los métodos de transformación dependen fuertemente de la hipótesis de que los valores de partida son realizaciones de variables aleatorias.\n",
    "\n",
    "Metodo de cuadrados de medios:\n",
    "Los números generados pueden repetirse cíclicamente despúes de una secuencia corta, como se puede observar en el histograma que muestra  posicion y las veces en la que se repiten, segun vayan ejecutandose las simulaciones. \n",
    "\n",
    "Metodo de congruencia lineal:\n",
    "Los principales generadores de n´umeros pseudo-aleatorios utilizados hoy en día son los llamados generadores congruenciales lineales. Tambien se puede observar en el histograma la posicion y  las veces que se repite al ejecutar las simulaciones. \n",
    "\n",
    "Las semillas en los dos metodos se obtiene del sistema del computador en le primer caso es accediendo a la memoria RAM, en el segundo caso es porcentaje de uso del CPU, en el segundo caso se considera los parámentros tomando en cuenta los generadores de uso común para que exista una mejor aletoriedad. \n",
    "\n",
    "\n",
    "Considero que el metodo con mejores resultados en mi prueba es del cuadrados medios ya que tiene menos repeticiones lo cual garantiza una mejor ejecución. \n",
    "\n",
    "\n",
    "\n",
    "*Tomar en cuenta la semilla inicial ya que de ella depende el proceso de los metodos.\n",
    "\n",
    "*Verificar que la generacion para las nuevas semillas sea corrrecto ya que puede ocasionar problemas para las siguienes simulaciones.\n",
    "\n",
    "*Tomar las recomendaciones del docente. "
   ]
  },
  {
   "cell_type": "markdown",
   "metadata": {},
   "source": [
    "                                                                                 CUENCA, 22 DE JULIO DEL 2020"
   ]
  }
 ],
 "metadata": {
  "kernelspec": {
   "display_name": "Python 3",
   "language": "python",
   "name": "python3"
  },
  "language_info": {
   "codemirror_mode": {
    "name": "ipython",
    "version": 3
   },
   "file_extension": ".py",
   "mimetype": "text/x-python",
   "name": "python",
   "nbconvert_exporter": "python",
   "pygments_lexer": "ipython3",
   "version": "3.7.7"
  }
 },
 "nbformat": 4,
 "nbformat_minor": 4
}
